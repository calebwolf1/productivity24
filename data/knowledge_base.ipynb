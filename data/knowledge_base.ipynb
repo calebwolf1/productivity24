{
 "cells": [
  {
   "cell_type": "markdown",
   "metadata": {},
   "source": [
    "# Building a Knowledge Base \n",
    "Using a RAG pipeline and evaluating with LlamaIndex for question/answer pairs in e-commerce customer support"
   ]
  },
  {
   "cell_type": "code",
   "execution_count": null,
   "metadata": {},
   "outputs": [],
   "source": [
    "! pip install llama-index"
   ]
  },
  {
   "cell_type": "code",
   "execution_count": 3,
   "metadata": {},
   "outputs": [
    {
     "data": {
      "text/plain": [
       "True"
      ]
     },
     "execution_count": 3,
     "metadata": {},
     "output_type": "execute_result"
    }
   ],
   "source": [
    "# By applying nest_asyncio, we can run additional async functions within this existing loop without conflicts.\n",
    "import nest_asyncio\n",
    "\n",
    "nest_asyncio.apply()\n",
    "from llama_index.core.evaluation import generate_question_context_pairs\n",
    "from llama_index.core import VectorStoreIndex, ServiceContext\n",
    "from llama_index.core.node_parser import SimpleNodeParser\n",
    "from llama_index.core.evaluation import RetrieverEvaluator\n",
    "from llama_index.llms.openai import OpenAI\n",
    "from llama_index.readers.json import JSONReader\n",
    "\n",
    "import os\n",
    "import pandas as pd\n",
    "from dotenv import load_dotenv\n",
    "load_dotenv()"
   ]
  },
  {
   "cell_type": "code",
   "execution_count": 4,
   "metadata": {},
   "outputs": [],
   "source": [
    "documents = JSONReader(is_jsonl = True).load_data(\"converted_conversations.jsonl\")\n",
    "\n",
    "# define an LLM (3.5 turbo)\n",
    "llm = OpenAI(model=\"gpt-3.5-turbo\")\n",
    "\n",
    "# build index with a chunk_size of 512 -- do we need to update chunk size?\n",
    "node_parser = SimpleNodeParser.from_defaults(chunk_size=512)\n",
    "nodes = node_parser.get_nodes_from_documents(documents)\n",
    "vector_index = VectorStoreIndex(nodes)"
   ]
  },
  {
   "cell_type": "code",
   "execution_count": 5,
   "metadata": {},
   "outputs": [],
   "source": [
    "query_engine = vector_index.as_query_engine()"
   ]
  },
  {
   "cell_type": "code",
   "execution_count": 6,
   "metadata": {},
   "outputs": [
    {
     "data": {
      "text/plain": [
       "Response(response='Your order is currently in transit and should arrive within the next two business days. If you do not receive it by then, please let us know, and we will investigate further.', source_nodes=[NodeWithScore(node=TextNode(id_='1ae6b375-575f-4423-908a-57aa79925682', embedding=None, metadata={}, excluded_embed_metadata_keys=[], excluded_llm_metadata_keys=[], relationships={<NodeRelationship.SOURCE: '1'>: RelatedNodeInfo(node_id='3650e9ea-2dea-4993-ad60-a40dc9006496', node_type=<ObjectType.DOCUMENT: '4'>, metadata={}, hash='6f220b567b742bd968381d3ea7f9c6786bfc92b7f4bd4da87973b9a4af773d17'), <NodeRelationship.PREVIOUS: '2'>: RelatedNodeInfo(node_id='bb8c6e9e-ab3a-4084-a4e6-1bb804db98cb', node_type=<ObjectType.TEXT: '1'>, metadata={}, hash='6ac01b28e1596a6c89bf24c116ce73bbda3efd25539567de219849fea394fe4d'), <NodeRelationship.NEXT: '3'>: RelatedNodeInfo(node_id='7e013ae9-b4b9-442a-acb8-ad9488333af2', node_type=<ObjectType.TEXT: '1'>, metadata={}, hash='5926ece82fb4ef95e09e94e5b62f4ed091d678fcf9df389a79ba8601dd1d5346')}, text='However, we do offer different shipping options, including expedited shipping, which is faster but comes with an additional charge. Would you like me to check if that\\'s available for your order?\"\\n\"role\": \"user\",\\n\"content\": \"No, I don\\'t want to pay extra. I just want to know when I can expect my order to arrive.\"\\n\"role\": \"assistant\",\\n\"content\": \"I completely understand. Let me check the status of your order. Could you please hold for a moment?\"\\n\"role\": \"user\",\\n\"content\": \"Okay, I\\'ll hold.\"\\n\"role\": \"assistant\",\\n\"content\": \"Thank you for waiting. I see that your order is currently in transit and should arrive within the next two business days. If you don\\'t receive it by then, please let us know, and we\\'ll investigate further.\"\\n\"role\": \"user\",\\n\"content\": \"Okay, I\\'ll wait for two more days. But I don\\'t think I should have to pay for shipping if it takes so long to arrive.\"\\n\"role\": \"assistant\",\\n\"content\": \"I understand your concern, and I apologize for the delay. We always strive to provide the best possible service to our customers. If you have any other questions or concerns, please don\\'t hesitate to contact us.\"\\n\"role\": \"user\",\\n\"content\": \"Okay, thank you for your help.\"\\n\"role\": \"assistant\",\\n\"content\": \"You\\'re welcome. Have a great day!\"\\n\"role\": \"user\",\\n\"content\": \"You too. Goodbye!\"\\n\"role\": \"assistant\",\\n\"content\": \"Goodbye!\"', start_char_idx=1232, end_char_idx=2576, text_template='{metadata_str}\\n\\n{content}', metadata_template='{key}: {value}', metadata_seperator='\\n'), score=0.8355510785202788), NodeWithScore(node=TextNode(id_='ac38da7e-41d6-4e26-b942-3a853809923d', embedding=None, metadata={}, excluded_embed_metadata_keys=[], excluded_llm_metadata_keys=[], relationships={<NodeRelationship.SOURCE: '1'>: RelatedNodeInfo(node_id='77ddf907-dd66-4a60-86f1-32af0f063284', node_type=<ObjectType.DOCUMENT: '4'>, metadata={}, hash='71c0f1bdd08566ca6436a9d23928d2357d43489474ad8fb7955b0320706c583a'), <NodeRelationship.PREVIOUS: '2'>: RelatedNodeInfo(node_id='a9f7c0e0-4d07-475c-b371-187696d17024', node_type=<ObjectType.TEXT: '1'>, metadata={}, hash='3d152751650b898f04a80c8040691c302a11eaaee1feabd342a47df503d2bc21'), <NodeRelationship.NEXT: '3'>: RelatedNodeInfo(node_id='4976d26e-a10a-4099-8af4-5a3736013154', node_type=<ObjectType.TEXT: '1'>, metadata={}, hash='70a30300fe2ca2d4700f04d9e223b4c79eb9a90da9b15d000c581fff67be0f9d')}, text='I\\'ll also send you an email with the updated status of your order.\"\\n\"role\": \"user\",\\n\"content\": \"Okay, thank you. But why is it taking so long? It\\'s been two days now.\"\\n\"role\": \"assistant\",\\n\"content\": \"I\\'m sorry for the delay. Sometimes, due to unforeseen circumstances, the shipment may get delayed. But I assure you that we are doing our best to get it delivered to you as soon as possible.\"\\n\"role\": \"user\",\\n\"content\": \"Okay, I hope so.\"\\n\"role\": \"assistant\",\\n\"content\": \"Is there anything else I can assist you with?\"\\n\"role\": \"user\",\\n\"content\": \"No, that\\'s all for now.\"\\n\"role\": \"assistant\",\\n\"content\": \"Okay, please keep an eye on your email for updates on your order. If you have any further concerns, please don\\'t hesitate to contact us. Thank you for choosing BrownBox.\"\\n\"role\": \"user\",\\n\"content\": \"Thank you.\"', start_char_idx=1187, end_char_idx=2002, text_template='{metadata_str}\\n\\n{content}', metadata_template='{key}: {value}', metadata_seperator='\\n'), score=0.8296518165884488)], metadata={'1ae6b375-575f-4423-908a-57aa79925682': {}, 'ac38da7e-41d6-4e26-b942-3a853809923d': {}})"
      ]
     },
     "execution_count": 6,
     "metadata": {},
     "output_type": "execute_result"
    }
   ],
   "source": [
    "response_vector = query_engine.query(\"I have been waiting for my order for a long time. When will it get here?\")\n",
    "response_vector"
   ]
  },
  {
   "cell_type": "markdown",
   "metadata": {},
   "source": [
    "### Example Chat Completion:\n",
    "User: I have been waiting for my order for a long time. When will it get here?\n",
    "\n",
    "Generated Response: Your order is currently in transit and should arrive within the next two business days. If you do not receive it by then, it is recommended to reach out to investigate further."
   ]
  },
  {
   "cell_type": "code",
   "execution_count": 7,
   "metadata": {},
   "outputs": [
    {
     "data": {
      "text/plain": [
       "Response(response=\"I can guide you through some basic troubleshooting steps that might help fix the issue with your toaster. If those steps don't resolve the problem, we can proceed with the return process for a refund. Would you like to try troubleshooting first?\", source_nodes=[NodeWithScore(node=TextNode(id_='bb36f9dd-bbc3-4f82-a1b8-061f9b027e9c', embedding=None, metadata={}, excluded_embed_metadata_keys=[], excluded_llm_metadata_keys=[], relationships={<NodeRelationship.SOURCE: '1'>: RelatedNodeInfo(node_id='e8ce9d57-d4ff-43f7-87a0-b4b35eebfd7a', node_type=<ObjectType.DOCUMENT: '4'>, metadata={}, hash='4bbdba1b1fe75ff893e28d28338e420bb28a2366f332f540912ebf820c4e8d84'), <NodeRelationship.PREVIOUS: '2'>: RelatedNodeInfo(node_id='0046c21b-33ef-41a3-9d77-b7c69829ce69', node_type=<ObjectType.TEXT: '1'>, metadata={}, hash='fc8f41eea2364820d568942167652f1d11f935877d4ec4febf45c646b063a9ab'), <NodeRelationship.NEXT: '3'>: RelatedNodeInfo(node_id='5d9edefd-300c-4ef0-883c-482b68f2fea3', node_type=<ObjectType.TEXT: '1'>, metadata={}, hash='fd96220ce3fe13fa23b0383abb02f8510445af67789df5274b9cfb595ce1e919')}, text='Let me check if we have a replacement available for you. Please bear with me for a moment.\"\\n\"role\": \"assistant\",\\n\"content\": \"Thank you for waiting. I\\'m sorry to inform you that we don\\'t have a replacement available at the moment. However, we can process a return for you and issue a refund.\"\\n\"role\": \"user\",\\n\"content\": \"I don\\'t want a refund. I want a replacement. Can you please check again if there is any way to get a replacement?\"\\n\"role\": \"assistant\",\\n\"content\": \"I understand your concern, but unfortunately, we don\\'t have a replacement available at the moment. However, we can offer you a refund or a store credit that you can use to purchase a similar product.\"\\n\"role\": \"user\",\\n\"content\": \"This is unacceptable. I need a replacement as soon as possible. Can you please transfer me to someone who can help me with this?\"\\n\"role\": \"assistant\",\\n\"content\": \"I\\'m sorry to hear that you\\'re not satisfied with the options I provided. I\\'ll transfer you to my supervisor, who can assist you further. Please hold the line.\"\\n\"role\": \"user\",\\n\"content\": \"Hi Rachel, I want to return my electric cooker and get a replacement, but the junior agent I spoke to said that there is no replacement available. This is unacceptable, and I need a replacement as soon as possible.\"\\n\"role\": \"user\",\\n\"content\": \"I don\\'t want a refund or store credit. I want a replacement. This is unacceptable.\"\\n\"role\": \"user\",\\n\"content\": \"Okay, I guess that\\'s the only option I have. How long will it take to process the return and refund?\"\\n\"role\": \"user\",\\n\"content\": \"Okay, thank you for your help, Rachel.\"\\n\"role\": \"user\",\\n\"content\": \"You too, Rachel. Goodbye!\"', start_char_idx=1158, end_char_idx=2786, text_template='{metadata_str}\\n\\n{content}', metadata_template='{key}: {value}', metadata_seperator='\\n'), score=0.8154808770259642), NodeWithScore(node=TextNode(id_='606a0dcc-1143-4d63-a7a2-65df0b8dd0b2', embedding=None, metadata={}, excluded_embed_metadata_keys=[], excluded_llm_metadata_keys=[], relationships={<NodeRelationship.SOURCE: '1'>: RelatedNodeInfo(node_id='78dce39c-5d6a-45fd-ac55-78beee2b72f1', node_type=<ObjectType.DOCUMENT: '4'>, metadata={}, hash='5aa3a496927df83978b746df2e47bebbbd690fd1d9a36aec493a42d3bcdf8512'), <NodeRelationship.PREVIOUS: '2'>: RelatedNodeInfo(node_id='cc204111-0ecd-454c-a3dd-76c5b7d88b82', node_type=<ObjectType.TEXT: '1'>, metadata={}, hash='1dabfb84c851e82b8a6e07c6ce1e7a34f193aaaf46993fca659fa1a205a00c84'), <NodeRelationship.NEXT: '3'>: RelatedNodeInfo(node_id='263e3756-795e-4295-89c1-38b2c4500bf4', node_type=<ObjectType.TEXT: '1'>, metadata={}, hash='a661821401ff9506c9c7913ec2e73b2616673e7a6965e11931ad0c435e709bef')}, text='I can guide you through some basic troubleshooting steps that might help fix the issue. If that doesn\\'t work, we can proceed with the return process. Is that okay with you?\"\\n\"role\": \"user\",\\n\"content\": \"Yes, that\\'s fine.\"\\n\"role\": \"assistant\",\\n\"content\": \"Thank you, sir. Please unplug the microwave oven and wait for a few minutes before plugging it back in. Then, try heating the food again. If that doesn\\'t work, please try resetting the clock and then heating the food. Let me know if that works.\"\\n\"role\": \"user\",\\n\"content\": \"Okay, I\\'ll try that.\"\\n\"role\": \"user\",\\n\"content\": \"It\\'s still not working.\"\\n\"role\": \"assistant\",\\n\"content\": \"I\\'m sorry to hear that, sir. We\\'ll proceed with the return process. I will send you an email with the return instructions and a return label. You can follow the instructions and ship the product back to us. Once we receive the product, we will initiate the refund process. Would you like a replacement for the product?\"\\n\"role\": \"user\",\\n\"content\": \"Yes, please.\"\\n\"role\": \"assistant\",\\n\"content\": \"Okay, sir. I\\'ll make a note of that. You should receive the email with the return instructions within the next 24 hours. If you have any further questions or concerns, please don\\'t hesitate to reach out. Is there anything else I can help you with?\"\\n\"role\": \"user\",\\n\"content\": \"No, that\\'s all. Thank you, Sarah.\"\\n\"role\": \"assistant\",\\n\"content\": \"You\\'re welcome, sir. I apologize for the inconvenience caused. If you have any further questions or concerns, please don\\'t hesitate to reach out. Have a great day!\"\\n\"role\": \"user\",\\n\"content\": \"Thank you, Sarah. You too. Goodbye!\"\\n\"role\": \"assistant\",\\n\"content\": \"Goodbye, sir. Take care!\"', start_char_idx=1225, end_char_idx=2889, text_template='{metadata_str}\\n\\n{content}', metadata_template='{key}: {value}', metadata_seperator='\\n'), score=0.8153664043890285)], metadata={'bb36f9dd-bbc3-4f82-a1b8-061f9b027e9c': {}, '606a0dcc-1143-4d63-a7a2-65df0b8dd0b2': {}})"
      ]
     },
     "execution_count": 7,
     "metadata": {},
     "output_type": "execute_result"
    }
   ],
   "source": [
    "response_vector = query_engine.query(\"I have a problem with my toaster. It keeps making weird noses. I want a refund\")\n",
    "response_vector"
   ]
  },
  {
   "cell_type": "code",
   "execution_count": 8,
   "metadata": {},
   "outputs": [
    {
     "data": {
      "text/plain": [
       "Response(response='Hello! How can I assist you today?', source_nodes=[NodeWithScore(node=TextNode(id_='a460a7b0-c45f-4d24-9551-1675cab8bd76', embedding=None, metadata={}, excluded_embed_metadata_keys=[], excluded_llm_metadata_keys=[], relationships={<NodeRelationship.SOURCE: '1'>: RelatedNodeInfo(node_id='b1a45f3c-9112-44f7-9381-9463e7568533', node_type=<ObjectType.DOCUMENT: '4'>, metadata={}, hash='f71160ab841ee51bfbb4ed7b4983765eb0e040189609bc005c6fd57cb3840fde'), <NodeRelationship.PREVIOUS: '2'>: RelatedNodeInfo(node_id='95788bf8-ea27-4c68-930c-a57fb2a122cb', node_type=<ObjectType.TEXT: '1'>, metadata={}, hash='954dcdc5ea5c958b1e31566164dc9ee9faf8d9ed92f9be58ee5f9d1949757f67'), <NodeRelationship.NEXT: '3'>: RelatedNodeInfo(node_id='0c5016d7-59af-4bf1-82bc-245a9d75cf20', node_type=<ObjectType.TEXT: '1'>, metadata={}, hash='957951677e61f5fec37d585d3434ecf6665c4b2ea21655ae8978aa8a119e656f')}, text='Please bear with me for a moment.\"\\n\"role\": \"assistant\",\\n\"content\": \"Thank you for waiting. I have checked with our shipping team, and I see that your order is currently in transit. It should arrive at your doorstep by tomorrow evening.\"\\n\"role\": \"user\",\\n\"content\": \"Tomorrow evening? That\\'s still too late for my event. Can\\'t you do anything to speed up the delivery?\"\\n\"role\": \"assistant\",\\n\"content\": \"I\\'m sorry, but we cannot guarantee expedited delivery at this time. However, I can offer you a partial refund for the inconvenience caused.\"\\n\"role\": \"user\",\\n\"content\": \"A partial refund? That\\'s not going to make up for the missed event.\"\\n\"role\": \"assistant\",\\n\"content\": \"I understand that a refund may not be enough, but it\\'s the best I can offer at this time. I want to make sure that you are satisfied with our service. Is there anything else I can do to assist you?\"\\n\"role\": \"user\",\\n\"content\": \"No, that\\'s all for now. I just hope that the shoes arrive soon.\"\\n\"role\": \"assistant\",\\n\"content\": \"I understand your concern. Rest assured, we will do everything we can to ensure that you receive your order as soon as possible. Thank you for your patience and understanding.\"\\n\"role\": \"user\",\\n\"content\": \"Okay, thank you.\"\\n\"role\": \"assistant\",\\n\"content\": \"You\\'re welcome. If you have any further questions or need assistance in the future, feel free to reach out. Have a great day!\"\\n\"role\": \"user\",\\n\"content\": \"You too, Sarah. Goodbye!\"\\n\"role\": \"assistant\",\\n\"content\": \"Goodbye, and take care!\"', start_char_idx=1242, end_char_idx=2733, text_template='{metadata_str}\\n\\n{content}', metadata_template='{key}: {value}', metadata_seperator='\\n'), score=0.7690828578047816), NodeWithScore(node=TextNode(id_='e39b4b75-1724-4226-9e64-2ebd006cd0fc', embedding=None, metadata={}, excluded_embed_metadata_keys=[], excluded_llm_metadata_keys=[], relationships={<NodeRelationship.SOURCE: '1'>: RelatedNodeInfo(node_id='61a5c799-60e0-4c71-a2ef-7636df9b2b7c', node_type=<ObjectType.DOCUMENT: '4'>, metadata={}, hash='c366719938c2cff39e65d0d0d29e37a5f2c7bf5c5cb91233232b65492d56ed67'), <NodeRelationship.PREVIOUS: '2'>: RelatedNodeInfo(node_id='78a64ccd-76de-4045-913e-5764372f6b61', node_type=<ObjectType.TEXT: '1'>, metadata={}, hash='c659ee274e2e1600fa5a097d35c205b02aa0af2b62192bafca2ae9e9057033da'), <NodeRelationship.NEXT: '3'>: RelatedNodeInfo(node_id='13c82269-9347-4aeb-878e-c0f21a3ce44f', node_type=<ObjectType.TEXT: '1'>, metadata={}, hash='dc174e43bb2a53bf07b3b081e5a1d02fd7cc68f8910e7f840b68cc4755471ecd')}, text='I demand a refund.\"\\n\"role\": \"assistant\",\\n\"content\": \"I understand your frustration, but unfortunately, we cannot process a refund for the backpack as it\\'s not eligible for return.\"\\n\"role\": \"user\",\\n\"content\": \"This is unacceptable. I want to speak to your supervisor.\"\\n\"role\": \"assistant\",\\n\"content\": \"I\\'m sorry to hear that, but before transferring you, I would like to confirm some details. May I know your name and email address, please?\"\\n\"role\": \"user\",\\n\"content\": \"My name is John Smith, and my email address is johnsmith@email.com.\"\\n\"role\": \"assistant\",\\n\"content\": \"Thank you, John. Please hold on for a moment while I transfer your call to my supervisor.\"\\n\"role\": \"user\",\\n\"content\": \"Yes, it\\'s BB987654.\"\\n\"role\": \"user\",\\n\"content\": \"Thank you, that\\'s great.\"\\n\"role\": \"user\",\\n\"content\": \"The backpack is too small for my needs.\"\\n\"role\": \"user\",\\n\"content\": \"Sure.\"\\n\"role\": \"user\",\\n\"content\": \"Yes, that would be great.\"\\n\"role\": \"user\",\\n\"content\": \"No, that\\'s all. Thank you for your help, Lisa.\"\\n\"role\": \"user\",\\n\"content\": \"Thank you, you too. Goodbye!\"', start_char_idx=1190, end_char_idx=2247, text_template='{metadata_str}\\n\\n{content}', metadata_template='{key}: {value}', metadata_seperator='\\n'), score=0.7690817849272193)], metadata={'a460a7b0-c45f-4d24-9551-1675cab8bd76': {}, 'e39b4b75-1724-4226-9e64-2ebd006cd0fc': {}})"
      ]
     },
     "execution_count": 8,
     "metadata": {},
     "output_type": "execute_result"
    }
   ],
   "source": [
    "response_vector = query_engine.query(\"Hello!\")\n",
    "response_vector"
   ]
  }
 ],
 "metadata": {
  "kernelspec": {
   "display_name": ".venv",
   "language": "python",
   "name": "python3"
  },
  "language_info": {
   "codemirror_mode": {
    "name": "ipython",
    "version": 3
   },
   "file_extension": ".py",
   "mimetype": "text/x-python",
   "name": "python",
   "nbconvert_exporter": "python",
   "pygments_lexer": "ipython3",
   "version": "3.12.1"
  }
 },
 "nbformat": 4,
 "nbformat_minor": 2
}
