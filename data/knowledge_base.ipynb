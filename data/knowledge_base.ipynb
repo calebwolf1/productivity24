{
 "cells": [
  {
   "cell_type": "markdown",
   "metadata": {},
   "source": [
    "# Building a Knowledge Base \n",
    "Using a RAG pipeline and evaluating with LlamaIndex for question/answer pairs in e-commerce customer support"
   ]
  },
  {
   "cell_type": "code",
   "execution_count": null,
   "metadata": {},
   "outputs": [],
   "source": [
    "! pip install llama-index"
   ]
  },
  {
   "cell_type": "code",
   "execution_count": 3,
   "metadata": {},
   "outputs": [
    {
     "data": {
      "text/plain": [
       "True"
      ]
     },
     "execution_count": 3,
     "metadata": {},
     "output_type": "execute_result"
    }
   ],
   "source": [
    "# By applying nest_asyncio, we can run additional async functions within this existing loop without conflicts.\n",
    "import nest_asyncio\n",
    "\n",
    "nest_asyncio.apply()\n",
    "from llama_index.core.evaluation import generate_question_context_pairs\n",
    "from llama_index.core import VectorStoreIndex, ServiceContext\n",
    "from llama_index.core.node_parser import SimpleNodeParser\n",
    "from llama_index.core.evaluation import RetrieverEvaluator\n",
    "from llama_index.llms.openai import OpenAI\n",
    "from llama_index.readers.json import JSONReader\n",
    "\n",
    "import os\n",
    "import pandas as pd\n",
    "from dotenv import load_dotenv\n",
    "load_dotenv()"
   ]
  },
  {
   "cell_type": "code",
   "execution_count": 4,
   "metadata": {},
   "outputs": [],
   "source": [
    "documents = JSONReader(is_jsonl = True).load_data(\"converted_conversations.jsonl\")\n",
    "\n",
    "# define an LLM (3.5 turbo)\n",
    "llm = OpenAI(model=\"gpt-3.5-turbo\")\n",
    "\n",
    "# build index with a chunk_size of 512 -- do we need to update chunk size?\n",
    "node_parser = SimpleNodeParser.from_defaults(chunk_size=512)\n",
    "nodes = node_parser.get_nodes_from_documents(documents)\n",
    "vector_index = VectorStoreIndex(nodes)"
   ]
  },
  {
   "cell_type": "code",
   "execution_count": 5,
   "metadata": {},
   "outputs": [
    {
     "data": {
      "text/plain": [
       "<llama_index.core.query_engine.retriever_query_engine.RetrieverQueryEngine at 0x1378fb260>"
      ]
     },
     "execution_count": 5,
     "metadata": {},
     "output_type": "execute_result"
    }
   ],
   "source": [
    "query_engine = vector_index.as_query_engine()\n",
    "query_engine"
   ]
  },
  {
   "cell_type": "code",
   "execution_count": 9,
   "metadata": {},
   "outputs": [
    {
     "data": {
      "text/plain": [
       "'Your order is currently in transit and should arrive within the next two business days. If you do not receive it by then, please reach out to us so we can investigate further.'"
      ]
     },
     "execution_count": 9,
     "metadata": {},
     "output_type": "execute_result"
    }
   ],
   "source": [
    "response_vector = query_engine.query(\"I have been waiting for my order for a long time. When will it get here?\")\n",
    "response_vector.response\n"
   ]
  },
  {
   "cell_type": "markdown",
   "metadata": {},
   "source": [
    "### Example Chat Completion:\n",
    "User: I have been waiting for my order for a long time. When will it get here?\n",
    "\n",
    "Generated Response: Your order is currently in transit and should arrive within the next two business days. If you do not receive it by then, it is recommended to reach out to investigate further."
   ]
  },
  {
   "cell_type": "code",
   "execution_count": 7,
   "metadata": {},
   "outputs": [
    {
     "data": {
      "text/plain": [
       "Response(response=\"I can guide you through some basic troubleshooting steps that might help fix the issue with your toaster. If those steps don't resolve the problem, we can proceed with the return process. Would you be willing to try some troubleshooting first?\", source_nodes=[NodeWithScore(node=TextNode(id_='48282860-1807-4157-b5a2-871e612dad40', embedding=None, metadata={}, excluded_embed_metadata_keys=[], excluded_llm_metadata_keys=[], relationships={<NodeRelationship.SOURCE: '1'>: RelatedNodeInfo(node_id='c3a20af8-b33b-45fe-bbdb-e741ec7a5375', node_type=<ObjectType.DOCUMENT: '4'>, metadata={}, hash='4bbdba1b1fe75ff893e28d28338e420bb28a2366f332f540912ebf820c4e8d84'), <NodeRelationship.PREVIOUS: '2'>: RelatedNodeInfo(node_id='b6839217-c8e3-41be-b434-37a54445f34c', node_type=<ObjectType.TEXT: '1'>, metadata={}, hash='fc8f41eea2364820d568942167652f1d11f935877d4ec4febf45c646b063a9ab'), <NodeRelationship.NEXT: '3'>: RelatedNodeInfo(node_id='1d2d1cb8-337b-4836-a9fb-efe6df559c22', node_type=<ObjectType.TEXT: '1'>, metadata={}, hash='fd96220ce3fe13fa23b0383abb02f8510445af67789df5274b9cfb595ce1e919')}, text='Let me check if we have a replacement available for you. Please bear with me for a moment.\"\\n\"role\": \"assistant\",\\n\"content\": \"Thank you for waiting. I\\'m sorry to inform you that we don\\'t have a replacement available at the moment. However, we can process a return for you and issue a refund.\"\\n\"role\": \"user\",\\n\"content\": \"I don\\'t want a refund. I want a replacement. Can you please check again if there is any way to get a replacement?\"\\n\"role\": \"assistant\",\\n\"content\": \"I understand your concern, but unfortunately, we don\\'t have a replacement available at the moment. However, we can offer you a refund or a store credit that you can use to purchase a similar product.\"\\n\"role\": \"user\",\\n\"content\": \"This is unacceptable. I need a replacement as soon as possible. Can you please transfer me to someone who can help me with this?\"\\n\"role\": \"assistant\",\\n\"content\": \"I\\'m sorry to hear that you\\'re not satisfied with the options I provided. I\\'ll transfer you to my supervisor, who can assist you further. Please hold the line.\"\\n\"role\": \"user\",\\n\"content\": \"Hi Rachel, I want to return my electric cooker and get a replacement, but the junior agent I spoke to said that there is no replacement available. This is unacceptable, and I need a replacement as soon as possible.\"\\n\"role\": \"user\",\\n\"content\": \"I don\\'t want a refund or store credit. I want a replacement. This is unacceptable.\"\\n\"role\": \"user\",\\n\"content\": \"Okay, I guess that\\'s the only option I have. How long will it take to process the return and refund?\"\\n\"role\": \"user\",\\n\"content\": \"Okay, thank you for your help, Rachel.\"\\n\"role\": \"user\",\\n\"content\": \"You too, Rachel. Goodbye!\"', start_char_idx=1158, end_char_idx=2786, text_template='{metadata_str}\\n\\n{content}', metadata_template='{key}: {value}', metadata_seperator='\\n'), score=0.8154808770259642), NodeWithScore(node=TextNode(id_='eda73981-d572-4e98-90eb-3a4d35292895', embedding=None, metadata={}, excluded_embed_metadata_keys=[], excluded_llm_metadata_keys=[], relationships={<NodeRelationship.SOURCE: '1'>: RelatedNodeInfo(node_id='7f9caca1-f8b5-4cec-8960-06adb5c759d3', node_type=<ObjectType.DOCUMENT: '4'>, metadata={}, hash='5aa3a496927df83978b746df2e47bebbbd690fd1d9a36aec493a42d3bcdf8512'), <NodeRelationship.PREVIOUS: '2'>: RelatedNodeInfo(node_id='938873be-8e19-4bd4-b119-39d850979297', node_type=<ObjectType.TEXT: '1'>, metadata={}, hash='1dabfb84c851e82b8a6e07c6ce1e7a34f193aaaf46993fca659fa1a205a00c84'), <NodeRelationship.NEXT: '3'>: RelatedNodeInfo(node_id='6c6dd49d-85f9-4687-8298-3897d6f316e1', node_type=<ObjectType.TEXT: '1'>, metadata={}, hash='a661821401ff9506c9c7913ec2e73b2616673e7a6965e11931ad0c435e709bef')}, text='I can guide you through some basic troubleshooting steps that might help fix the issue. If that doesn\\'t work, we can proceed with the return process. Is that okay with you?\"\\n\"role\": \"user\",\\n\"content\": \"Yes, that\\'s fine.\"\\n\"role\": \"assistant\",\\n\"content\": \"Thank you, sir. Please unplug the microwave oven and wait for a few minutes before plugging it back in. Then, try heating the food again. If that doesn\\'t work, please try resetting the clock and then heating the food. Let me know if that works.\"\\n\"role\": \"user\",\\n\"content\": \"Okay, I\\'ll try that.\"\\n\"role\": \"user\",\\n\"content\": \"It\\'s still not working.\"\\n\"role\": \"assistant\",\\n\"content\": \"I\\'m sorry to hear that, sir. We\\'ll proceed with the return process. I will send you an email with the return instructions and a return label. You can follow the instructions and ship the product back to us. Once we receive the product, we will initiate the refund process. Would you like a replacement for the product?\"\\n\"role\": \"user\",\\n\"content\": \"Yes, please.\"\\n\"role\": \"assistant\",\\n\"content\": \"Okay, sir. I\\'ll make a note of that. You should receive the email with the return instructions within the next 24 hours. If you have any further questions or concerns, please don\\'t hesitate to reach out. Is there anything else I can help you with?\"\\n\"role\": \"user\",\\n\"content\": \"No, that\\'s all. Thank you, Sarah.\"\\n\"role\": \"assistant\",\\n\"content\": \"You\\'re welcome, sir. I apologize for the inconvenience caused. If you have any further questions or concerns, please don\\'t hesitate to reach out. Have a great day!\"\\n\"role\": \"user\",\\n\"content\": \"Thank you, Sarah. You too. Goodbye!\"\\n\"role\": \"assistant\",\\n\"content\": \"Goodbye, sir. Take care!\"', start_char_idx=1225, end_char_idx=2889, text_template='{metadata_str}\\n\\n{content}', metadata_template='{key}: {value}', metadata_seperator='\\n'), score=0.8153664043890285)], metadata={'48282860-1807-4157-b5a2-871e612dad40': {}, 'eda73981-d572-4e98-90eb-3a4d35292895': {}})"
      ]
     },
     "execution_count": 7,
     "metadata": {},
     "output_type": "execute_result"
    }
   ],
   "source": [
    "response_vector = query_engine.query(\"I have a problem with my toaster. It keeps making weird noses. I want a refund\")\n",
    "response_vector"
   ]
  },
  {
   "cell_type": "code",
   "execution_count": 8,
   "metadata": {},
   "outputs": [
    {
     "data": {
      "text/plain": [
       "Response(response='Good day!', source_nodes=[NodeWithScore(node=TextNode(id_='66ed6277-bb77-4dfd-88f2-7eb74c5630bd', embedding=None, metadata={}, excluded_embed_metadata_keys=[], excluded_llm_metadata_keys=[], relationships={<NodeRelationship.SOURCE: '1'>: RelatedNodeInfo(node_id='82f6804a-4715-40d4-8126-95aa83d57d0c', node_type=<ObjectType.DOCUMENT: '4'>, metadata={}, hash='f71160ab841ee51bfbb4ed7b4983765eb0e040189609bc005c6fd57cb3840fde'), <NodeRelationship.PREVIOUS: '2'>: RelatedNodeInfo(node_id='44408591-825e-4219-a902-18bb648a1b33', node_type=<ObjectType.TEXT: '1'>, metadata={}, hash='954dcdc5ea5c958b1e31566164dc9ee9faf8d9ed92f9be58ee5f9d1949757f67'), <NodeRelationship.NEXT: '3'>: RelatedNodeInfo(node_id='8530b2db-4477-4156-b3dc-bdcecb4d0b59', node_type=<ObjectType.TEXT: '1'>, metadata={}, hash='957951677e61f5fec37d585d3434ecf6665c4b2ea21655ae8978aa8a119e656f')}, text='Please bear with me for a moment.\"\\n\"role\": \"assistant\",\\n\"content\": \"Thank you for waiting. I have checked with our shipping team, and I see that your order is currently in transit. It should arrive at your doorstep by tomorrow evening.\"\\n\"role\": \"user\",\\n\"content\": \"Tomorrow evening? That\\'s still too late for my event. Can\\'t you do anything to speed up the delivery?\"\\n\"role\": \"assistant\",\\n\"content\": \"I\\'m sorry, but we cannot guarantee expedited delivery at this time. However, I can offer you a partial refund for the inconvenience caused.\"\\n\"role\": \"user\",\\n\"content\": \"A partial refund? That\\'s not going to make up for the missed event.\"\\n\"role\": \"assistant\",\\n\"content\": \"I understand that a refund may not be enough, but it\\'s the best I can offer at this time. I want to make sure that you are satisfied with our service. Is there anything else I can do to assist you?\"\\n\"role\": \"user\",\\n\"content\": \"No, that\\'s all for now. I just hope that the shoes arrive soon.\"\\n\"role\": \"assistant\",\\n\"content\": \"I understand your concern. Rest assured, we will do everything we can to ensure that you receive your order as soon as possible. Thank you for your patience and understanding.\"\\n\"role\": \"user\",\\n\"content\": \"Okay, thank you.\"\\n\"role\": \"assistant\",\\n\"content\": \"You\\'re welcome. If you have any further questions or need assistance in the future, feel free to reach out. Have a great day!\"\\n\"role\": \"user\",\\n\"content\": \"You too, Sarah. Goodbye!\"\\n\"role\": \"assistant\",\\n\"content\": \"Goodbye, and take care!\"', start_char_idx=1242, end_char_idx=2733, text_template='{metadata_str}\\n\\n{content}', metadata_template='{key}: {value}', metadata_seperator='\\n'), score=0.7690828578047816), NodeWithScore(node=TextNode(id_='8b1e23a9-0453-40e6-a9b4-5ed7c6c2acf8', embedding=None, metadata={}, excluded_embed_metadata_keys=[], excluded_llm_metadata_keys=[], relationships={<NodeRelationship.SOURCE: '1'>: RelatedNodeInfo(node_id='06b6ce48-c6b9-4c9d-8715-fb266c74eb47', node_type=<ObjectType.DOCUMENT: '4'>, metadata={}, hash='c366719938c2cff39e65d0d0d29e37a5f2c7bf5c5cb91233232b65492d56ed67'), <NodeRelationship.PREVIOUS: '2'>: RelatedNodeInfo(node_id='53c91ced-8569-4c70-8b56-1f5a97bd65df', node_type=<ObjectType.TEXT: '1'>, metadata={}, hash='c659ee274e2e1600fa5a097d35c205b02aa0af2b62192bafca2ae9e9057033da'), <NodeRelationship.NEXT: '3'>: RelatedNodeInfo(node_id='c1df5655-dffb-469d-86ac-3e19a1acdd07', node_type=<ObjectType.TEXT: '1'>, metadata={}, hash='dc174e43bb2a53bf07b3b081e5a1d02fd7cc68f8910e7f840b68cc4755471ecd')}, text='I demand a refund.\"\\n\"role\": \"assistant\",\\n\"content\": \"I understand your frustration, but unfortunately, we cannot process a refund for the backpack as it\\'s not eligible for return.\"\\n\"role\": \"user\",\\n\"content\": \"This is unacceptable. I want to speak to your supervisor.\"\\n\"role\": \"assistant\",\\n\"content\": \"I\\'m sorry to hear that, but before transferring you, I would like to confirm some details. May I know your name and email address, please?\"\\n\"role\": \"user\",\\n\"content\": \"My name is John Smith, and my email address is johnsmith@email.com.\"\\n\"role\": \"assistant\",\\n\"content\": \"Thank you, John. Please hold on for a moment while I transfer your call to my supervisor.\"\\n\"role\": \"user\",\\n\"content\": \"Yes, it\\'s BB987654.\"\\n\"role\": \"user\",\\n\"content\": \"Thank you, that\\'s great.\"\\n\"role\": \"user\",\\n\"content\": \"The backpack is too small for my needs.\"\\n\"role\": \"user\",\\n\"content\": \"Sure.\"\\n\"role\": \"user\",\\n\"content\": \"Yes, that would be great.\"\\n\"role\": \"user\",\\n\"content\": \"No, that\\'s all. Thank you for your help, Lisa.\"\\n\"role\": \"user\",\\n\"content\": \"Thank you, you too. Goodbye!\"', start_char_idx=1190, end_char_idx=2247, text_template='{metadata_str}\\n\\n{content}', metadata_template='{key}: {value}', metadata_seperator='\\n'), score=0.7690817849272193)], metadata={'66ed6277-bb77-4dfd-88f2-7eb74c5630bd': {}, '8b1e23a9-0453-40e6-a9b4-5ed7c6c2acf8': {}})"
      ]
     },
     "execution_count": 8,
     "metadata": {},
     "output_type": "execute_result"
    }
   ],
   "source": [
    "response_vector = query_engine.query(\"Hello!\")\n",
    "response_vector"
   ]
  }
 ],
 "metadata": {
  "kernelspec": {
   "display_name": ".venv",
   "language": "python",
   "name": "python3"
  },
  "language_info": {
   "codemirror_mode": {
    "name": "ipython",
    "version": 3
   },
   "file_extension": ".py",
   "mimetype": "text/x-python",
   "name": "python",
   "nbconvert_exporter": "python",
   "pygments_lexer": "ipython3",
   "version": "3.12.1"
  }
 },
 "nbformat": 4,
 "nbformat_minor": 2
}
